{
 "cells": [
  {
   "cell_type": "code",
   "execution_count": 1,
   "id": "3ffb0072",
   "metadata": {},
   "outputs": [
    {
     "data": {
      "text/plain": [
       "True"
      ]
     },
     "execution_count": 1,
     "metadata": {},
     "output_type": "execute_result"
    }
   ],
   "source": [
    "import webbrowser\n",
    "webbrowser.open(\"http://www.baidu.com\")"
   ]
  },
  {
   "cell_type": "code",
   "execution_count": 1,
   "id": "8f8f5393",
   "metadata": {},
   "outputs": [],
   "source": [
    "import webbrowser\n",
    "import xlrd\n",
    "\n",
    "wb=xlrd. open_workbook_xls(\"search.xls\")\n",
    "sht=wb.sheet_by_name(\"Sheet1\")\n",
    "\n",
    "for x in range(sht.nrows):\n",
    "\twebbrowser.open(sht.cell(x,0).value)"
   ]
  },
  {
   "cell_type": "code",
   "execution_count": null,
   "id": "d3a1f6fc",
   "metadata": {},
   "outputs": [],
   "source": []
  }
 ],
 "metadata": {
  "kernelspec": {
   "display_name": "Python 3 (ipykernel)",
   "language": "python",
   "name": "python3"
  },
  "language_info": {
   "codemirror_mode": {
    "name": "ipython",
    "version": 3
   },
   "file_extension": ".py",
   "mimetype": "text/x-python",
   "name": "python",
   "nbconvert_exporter": "python",
   "pygments_lexer": "ipython3",
   "version": "3.9.12"
  }
 },
 "nbformat": 4,
 "nbformat_minor": 5
}
